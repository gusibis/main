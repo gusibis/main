{
 "cells": [
  {
   "attachments": {},
   "cell_type": "markdown",
   "metadata": {},
   "source": [
    "As a team decided to look into Financial data. Chose to get \n",
    "API keys obtained from  https://fred.stlouisfed.org/docs/api/fred/ and https://www.bls.gov/developers/home.htm and \"https://data.nasdaq.com/api/v3/datatables/, we alos used the nasdaqdatalink lib is a bit easier, documentation is here https://pypi.org/project/Nasdaq-Data-Link/\n",
    "\n",
    "Imported initial dependencies and read API documentation\n",
    "Discovered that data bls.gov had a limit in years so to download the same data as from fred.stlouisfed.org or nasdaq.com, we had to make multiple calls and then merge the data. "
   ]
  },
  {
   "attachments": {},
   "cell_type": "markdown",
   "metadata": {},
   "source": [
    "We collected data from 2010 to 2021 for:\n",
    "- 30_Year Fixed Rate Mortgage Average in the United States from https://api.stlouisfed.org/fred/series/observations?\n",
    "- Average Hourly Earnings of All Employees from https://api.stlouisfed.org/fred/series/observations?\n",
    "- Unemployment_rate from nasdaq.com but the origin of the data is https://fred.stlouisfed.org\n",
    "- Single Family Home value average (ZSFH) from Zillow through https://data.nasdaq.com/api/v3/datatables/ZILLOW/DATA?\n",
    "- The Consumer Price Index for All Urban Consumers: All Items from nasdaq, data origin is https://fred.stlouisfed.org\n",
    "- Gross domestic product from nasdaq, data origin is https://fred.stlouisfed.org which we could not merge as the set is only provided qarterly and the rest was obtained monthly. \n",
    "\n",
    "\n",
    "The data came out very clean, all that was needed was to rename the headers, all datasets had a column named 'Data' and extract the correct dates from the zillow data that was returned from 1996 to present. \n",
    "We saved the data in CSV files and "
   ]
  },
  {
   "attachments": {},
   "cell_type": "markdown",
   "metadata": {},
   "source": [
    "\n",
    "We created plots for each individual dataset \n",
    "All the data was merged into a single dataframe to calculate correlation and to make a linear regression plots, used inflation as the independent variable. \n"
   ]
  },
  {
   "attachments": {},
   "cell_type": "markdown",
   "metadata": {},
   "source": [
    "Impact of Covid. "
   ]
  },
  {
   "attachments": {},
   "cell_type": "markdown",
   "metadata": {},
   "source": [
    "We could determine that Single Family home vs inflation was not really affected by the Covid Crisis. \n",
    "That the interest rate in 2021 was the highest in the date range. \n",
    "We could alos see that the unemployment rate was steadily going down since 2010, wich was almost at 10% after the economic crisis of the 2008 in 2010 and by 2019 was at about 2% and when Covid hit in 2020 the unemployment rate skyrocketed to ~ 15 %\n",
    "Also in between June and July of 2020 the GDP dropped about 2 billion dollars which had been steadily increasing about half a billion dollars per year since 2010"
   ]
  },
  {
   "cell_type": "markdown",
   "metadata": {},
   "source": []
  },
  {
   "cell_type": "markdown",
   "metadata": {},
   "source": [
    "Requirements\n",
    "Completed Analysis Uploaded to GitHub (20 points)\n",
    "Final data analysis contains ample and complete information in README file (10 points)\n",
    "Final repository is acceptable for professional quality presentation (10 points)\n",
    "Visualizations (20 points)\n",
    "6–8 visualizations of data (at least two per question) (10 points)\n",
    "Clear and accurate labeling of images (5 points)\n",
    "Visualizations supported with ample and precise explanation (5 points)\n",
    "Analysis and Conclusion (20 points)\n",
    "Write-up summarizes major findings and implications at a professional level (5 points)\n",
    "Each question in the project proposal is answered with precise descriptions and findings (5 points)\n",
    "Findings are strongly supported with numbers and visualizations (5 points)\n",
    "Each question response is supported with a well-discerned statistical analysis from lessons (e.g., aggregation, correlation, comparison, summary statistics, sentiment analysis, and time series analysis) (5 points)\n",
    "Group Presentation (20 points)\n",
    "All group members spoke during the presentation (5 points)\n",
    "Group was well prepared (5 points)\n",
    "Presentation is relevant to material (5 points)\n",
    "Presentation maintains audience interest (5 points)\n",
    "Slide Deck (20 points)\n",
    "Slides are visually clean and professional (5 points)\n",
    "Slides are relevant to material (5 points)\n",
    "Slides effectively demonstrate the project (5 points)\n",
    "Slides are clear and maintain audience interest (5 points)\n",
    "This project will be evaluated against the requirements and assigned a grade according to the following table:"
   ]
  },
  {
   "cell_type": "markdown",
   "metadata": {},
   "source": [
    "What is the relationship between interest mortgage rate and inflation in the \n",
    "11-year lapse from 2010 to 2021?\n",
    "Can we also relate GDP to inflation and mortgage interest rates?\n",
    "How did the yearly unemployment rate look like during the 11-year period \n",
    "and can we see a parallel relationship with mortgage interest, inflation or \n",
    "GPD?"
   ]
  },
  {
   "cell_type": "code",
   "execution_count": null,
   "metadata": {},
   "outputs": [],
   "source": []
  },
  {
   "cell_type": "code",
   "execution_count": null,
   "metadata": {},
   "outputs": [],
   "source": []
  },
  {
   "cell_type": "code",
   "execution_count": null,
   "metadata": {},
   "outputs": [],
   "source": []
  },
  {
   "cell_type": "code",
   "execution_count": null,
   "metadata": {},
   "outputs": [],
   "source": []
  },
  {
   "cell_type": "code",
   "execution_count": null,
   "metadata": {},
   "outputs": [],
   "source": []
  },
  {
   "cell_type": "code",
   "execution_count": null,
   "metadata": {},
   "outputs": [],
   "source": []
  },
  {
   "cell_type": "code",
   "execution_count": null,
   "metadata": {},
   "outputs": [],
   "source": []
  },
  {
   "cell_type": "code",
   "execution_count": null,
   "metadata": {},
   "outputs": [],
   "source": []
  },
  {
   "cell_type": "code",
   "execution_count": null,
   "metadata": {},
   "outputs": [],
   "source": []
  },
  {
   "cell_type": "code",
   "execution_count": null,
   "metadata": {},
   "outputs": [],
   "source": []
  },
  {
   "cell_type": "code",
   "execution_count": null,
   "metadata": {},
   "outputs": [],
   "source": []
  },
  {
   "cell_type": "code",
   "execution_count": null,
   "metadata": {},
   "outputs": [],
   "source": []
  },
  {
   "cell_type": "code",
   "execution_count": null,
   "metadata": {},
   "outputs": [],
   "source": []
  }
 ],
 "metadata": {
  "language_info": {
   "name": "python"
  },
  "orig_nbformat": 4
 },
 "nbformat": 4,
 "nbformat_minor": 2
}
